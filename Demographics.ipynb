{
 "cells": [
  {
   "cell_type": "code",
   "execution_count": 1,
   "metadata": {},
   "outputs": [],
   "source": [
    "import pandas as pd\n",
    "import numpy as np"
   ]
  },
  {
   "cell_type": "code",
   "execution_count": 20,
   "metadata": {},
   "outputs": [],
   "source": [
    "data = {'Name': ['North Baldwin','Baldwin Harbor','Freeport','Oceanside','Rockville Centre'],\n",
    "'Population': [25134,7690,43128,31185,24442],\n",
    "#'Square Miles': [3.0,1.2,4.6,4.9,3.3],\n",
    "'Avg PC Income': [38163,46741,32373,47865,61730],\n",
    "'Med House Income': [105888,118194,76244,114938,114483],\n",
    "'Poverty Per': [6,5.3,12.5,5.1,4.4],\n",
    "'Per White': [34,43,25,85,79],\n",
    "'Per Black': [35,28,29,1,6],\n",
    "'Per Hispanic': [25,22,42,11,11],\n",
    "'Per Asian': [3,5,2,2,3],\n",
    "'Per 2+': [3,2,3,0,1]}"
   ]
  },
  {
   "cell_type": "code",
   "execution_count": 3,
   "metadata": {},
   "outputs": [],
   "source": [
    "towns = pd.DataFrame(data, columns = ['Name','Population','Avg PC Income','Med House Income','Poverty Per','Per White','Per Black','Per Hispanic', 'Per Asian','Per 2+'])"
   ]
  },
  {
   "cell_type": "code",
   "execution_count": 4,
   "metadata": {},
   "outputs": [
    {
     "data": {
      "text/html": [
       "<div>\n",
       "<style scoped>\n",
       "    .dataframe tbody tr th:only-of-type {\n",
       "        vertical-align: middle;\n",
       "    }\n",
       "\n",
       "    .dataframe tbody tr th {\n",
       "        vertical-align: top;\n",
       "    }\n",
       "\n",
       "    .dataframe thead th {\n",
       "        text-align: right;\n",
       "    }\n",
       "</style>\n",
       "<table border=\"1\" class=\"dataframe\">\n",
       "  <thead>\n",
       "    <tr style=\"text-align: right;\">\n",
       "      <th></th>\n",
       "      <th>Name</th>\n",
       "      <th>Population</th>\n",
       "      <th>Avg PC Income</th>\n",
       "      <th>Med House Income</th>\n",
       "      <th>Poverty Per</th>\n",
       "      <th>Per White</th>\n",
       "      <th>Per Black</th>\n",
       "      <th>Per Hispanic</th>\n",
       "      <th>Per Asian</th>\n",
       "      <th>Per 2+</th>\n",
       "    </tr>\n",
       "  </thead>\n",
       "  <tbody>\n",
       "    <tr>\n",
       "      <th>0</th>\n",
       "      <td>North Baldwin</td>\n",
       "      <td>25134</td>\n",
       "      <td>38163</td>\n",
       "      <td>105888</td>\n",
       "      <td>6.0</td>\n",
       "      <td>34</td>\n",
       "      <td>35</td>\n",
       "      <td>25</td>\n",
       "      <td>3</td>\n",
       "      <td>3</td>\n",
       "    </tr>\n",
       "    <tr>\n",
       "      <th>1</th>\n",
       "      <td>Baldwin Harbor</td>\n",
       "      <td>7690</td>\n",
       "      <td>46741</td>\n",
       "      <td>118194</td>\n",
       "      <td>5.3</td>\n",
       "      <td>43</td>\n",
       "      <td>28</td>\n",
       "      <td>22</td>\n",
       "      <td>5</td>\n",
       "      <td>2</td>\n",
       "    </tr>\n",
       "    <tr>\n",
       "      <th>2</th>\n",
       "      <td>Freeport</td>\n",
       "      <td>43128</td>\n",
       "      <td>32373</td>\n",
       "      <td>76244</td>\n",
       "      <td>12.5</td>\n",
       "      <td>25</td>\n",
       "      <td>29</td>\n",
       "      <td>42</td>\n",
       "      <td>2</td>\n",
       "      <td>3</td>\n",
       "    </tr>\n",
       "    <tr>\n",
       "      <th>3</th>\n",
       "      <td>Oceanside</td>\n",
       "      <td>31185</td>\n",
       "      <td>47865</td>\n",
       "      <td>114938</td>\n",
       "      <td>5.1</td>\n",
       "      <td>85</td>\n",
       "      <td>1</td>\n",
       "      <td>11</td>\n",
       "      <td>2</td>\n",
       "      <td>0</td>\n",
       "    </tr>\n",
       "    <tr>\n",
       "      <th>4</th>\n",
       "      <td>Rockville Centre</td>\n",
       "      <td>24442</td>\n",
       "      <td>61730</td>\n",
       "      <td>114483</td>\n",
       "      <td>4.4</td>\n",
       "      <td>79</td>\n",
       "      <td>6</td>\n",
       "      <td>11</td>\n",
       "      <td>3</td>\n",
       "      <td>1</td>\n",
       "    </tr>\n",
       "  </tbody>\n",
       "</table>\n",
       "</div>"
      ],
      "text/plain": [
       "               Name  Population  Avg PC Income  Med House Income  Poverty Per  \\\n",
       "0     North Baldwin       25134          38163            105888          6.0   \n",
       "1    Baldwin Harbor        7690          46741            118194          5.3   \n",
       "2          Freeport       43128          32373             76244         12.5   \n",
       "3         Oceanside       31185          47865            114938          5.1   \n",
       "4  Rockville Centre       24442          61730            114483          4.4   \n",
       "\n",
       "   Per White  Per Black  Per Hispanic  Per Asian  Per 2+  \n",
       "0         34         35            25          3       3  \n",
       "1         43         28            22          5       2  \n",
       "2         25         29            42          2       3  \n",
       "3         85          1            11          2       0  \n",
       "4         79          6            11          3       1  "
      ]
     },
     "execution_count": 4,
     "metadata": {},
     "output_type": "execute_result"
    }
   ],
   "source": [
    "towns"
   ]
  },
  {
   "cell_type": "code",
   "execution_count": 5,
   "metadata": {},
   "outputs": [
    {
     "data": {
      "text/plain": [
       "<pandas.core.indexing._iLocIndexer at 0x1208c7d70>"
      ]
     },
     "execution_count": 5,
     "metadata": {},
     "output_type": "execute_result"
    }
   ],
   "source": [
    "towns.iloc(0)"
   ]
  },
  {
   "cell_type": "code",
   "execution_count": 6,
   "metadata": {},
   "outputs": [],
   "source": [
    "NB_pop = towns.loc[0,'Population']\n",
    "NB_avg = towns.loc[0,'Avg PC Income']\n",
    "NB_incom = towns.loc[0,'Med House Income']\n",
    "NB_pov = towns.loc[0,'Poverty Per']\n",
    "NB_white = towns.loc[0,'Per White']\n",
    "NB_black = towns.loc[0,'Per Black']\n",
    "NB_his = towns.loc[0,'Per Hispanic']\n",
    "NB_asia = towns.loc[0,'Per Asian']\n",
    "NB_2 = towns.loc[0,'Per 2+']"
   ]
  },
  {
   "cell_type": "code",
   "execution_count": 7,
   "metadata": {},
   "outputs": [],
   "source": [
    "BH_pop = towns.loc[1,'Population']\n",
    "BH_avg = towns.loc[1,'Avg PC Income']\n",
    "BH_incom = towns.loc[1,'Med House Income']\n",
    "BH_pov = towns.loc[1,'Poverty Per']\n",
    "BH_white = towns.loc[1,'Per White']\n",
    "BH_black = towns.loc[1,'Per Black']\n",
    "BH_his = towns.loc[1,'Per Hispanic']\n",
    "BH_asia = towns.loc[1,'Per Asian']\n",
    "BH_2 = towns.loc[1,'Per 2+']"
   ]
  },
  {
   "cell_type": "code",
   "execution_count": 8,
   "metadata": {},
   "outputs": [],
   "source": [
    "Btot_pop = NB_pop+BH_pop"
   ]
  },
  {
   "cell_type": "code",
   "execution_count": 9,
   "metadata": {},
   "outputs": [],
   "source": [
    "BH_per = np.round(BH_pop/Btot_pop,4)"
   ]
  },
  {
   "cell_type": "code",
   "execution_count": 10,
   "metadata": {},
   "outputs": [],
   "source": [
    "NB_per = np.round(NB_pop/Btot_pop,4)"
   ]
  },
  {
   "cell_type": "code",
   "execution_count": 11,
   "metadata": {},
   "outputs": [],
   "source": [
    "Btot_avg = np.round(((NB_avg*NB_per) + (BH_avg*BH_per)))\n",
    "Btot_incom = np.round((NB_incom*NB_per)+(BH_incom*BH_per))\n",
    "Btot_pov = np.round((NB_pov*NB_per)+(BH_pov*BH_per),1)\n",
    "Btot_white = np.round((NB_white*NB_per)+(BH_white*BH_per),0)\n",
    "Btot_black = np.round((NB_black*NB_per)+(BH_black*BH_per),0)\n",
    "Btot_his = np.round((NB_his*NB_per)+(BH_his*BH_per),0)\n",
    "Btot_asia = np.round((NB_asia*NB_per)+(BH_asia*BH_per),0)\n",
    "Btot_2 = np.round((NB_2*NB_per)+(BH_2*BH_per),0)"
   ]
  },
  {
   "cell_type": "code",
   "execution_count": 12,
   "metadata": {},
   "outputs": [],
   "source": [
    "data2 = {'Name':'Baldwin', 'Population':Btot_pop,'Avg PC Income':Btot_avg, 'Med House Income':Btot_incom, 'Poverty Per':Btot_pov, 'Per White':Btot_white, 'Per Black':Btot_black, 'Per Hispanic':Btot_his, 'Per Asian':Btot_asia, 'Per 2+':Btot_2}"
   ]
  },
  {
   "cell_type": "code",
   "execution_count": 13,
   "metadata": {},
   "outputs": [
    {
     "data": {
      "text/plain": [
       "{'Name': 'Baldwin',\n",
       " 'Population': 32824,\n",
       " 'Avg PC Income': 40173.0,\n",
       " 'Med House Income': 108771.0,\n",
       " 'Poverty Per': 5.8,\n",
       " 'Per White': 36.0,\n",
       " 'Per Black': 33.0,\n",
       " 'Per Hispanic': 24.0,\n",
       " 'Per Asian': 3.0,\n",
       " 'Per 2+': 3.0}"
      ]
     },
     "execution_count": 13,
     "metadata": {},
     "output_type": "execute_result"
    }
   ],
   "source": [
    "data2"
   ]
  },
  {
   "cell_type": "code",
   "execution_count": 26,
   "metadata": {},
   "outputs": [],
   "source": [
    "towns = towns.append(data2, ignore_index=True)"
   ]
  },
  {
   "cell_type": "code",
   "execution_count": 28,
   "metadata": {},
   "outputs": [],
   "source": [
    "towns = towns.drop(0)"
   ]
  },
  {
   "cell_type": "code",
   "execution_count": 30,
   "metadata": {},
   "outputs": [],
   "source": [
    "towns = towns.drop(1)"
   ]
  },
  {
   "cell_type": "code",
   "execution_count": 32,
   "metadata": {},
   "outputs": [
    {
     "data": {
      "text/html": [
       "<div>\n",
       "<style scoped>\n",
       "    .dataframe tbody tr th:only-of-type {\n",
       "        vertical-align: middle;\n",
       "    }\n",
       "\n",
       "    .dataframe tbody tr th {\n",
       "        vertical-align: top;\n",
       "    }\n",
       "\n",
       "    .dataframe thead th {\n",
       "        text-align: right;\n",
       "    }\n",
       "</style>\n",
       "<table border=\"1\" class=\"dataframe\">\n",
       "  <thead>\n",
       "    <tr style=\"text-align: right;\">\n",
       "      <th></th>\n",
       "      <th>index</th>\n",
       "      <th>Name</th>\n",
       "      <th>Population</th>\n",
       "      <th>Avg PC Income</th>\n",
       "      <th>Med House Income</th>\n",
       "      <th>Poverty Per</th>\n",
       "      <th>Per White</th>\n",
       "      <th>Per Black</th>\n",
       "      <th>Per Hispanic</th>\n",
       "      <th>Per Asian</th>\n",
       "      <th>Per 2+</th>\n",
       "    </tr>\n",
       "  </thead>\n",
       "  <tbody>\n",
       "    <tr>\n",
       "      <th>0</th>\n",
       "      <td>2</td>\n",
       "      <td>Freeport</td>\n",
       "      <td>43128</td>\n",
       "      <td>32373.0</td>\n",
       "      <td>76244.0</td>\n",
       "      <td>12.5</td>\n",
       "      <td>25.0</td>\n",
       "      <td>29.0</td>\n",
       "      <td>42.0</td>\n",
       "      <td>2.0</td>\n",
       "      <td>3.0</td>\n",
       "    </tr>\n",
       "    <tr>\n",
       "      <th>1</th>\n",
       "      <td>3</td>\n",
       "      <td>Oceanside</td>\n",
       "      <td>31185</td>\n",
       "      <td>47865.0</td>\n",
       "      <td>114938.0</td>\n",
       "      <td>5.1</td>\n",
       "      <td>85.0</td>\n",
       "      <td>1.0</td>\n",
       "      <td>11.0</td>\n",
       "      <td>2.0</td>\n",
       "      <td>0.0</td>\n",
       "    </tr>\n",
       "    <tr>\n",
       "      <th>2</th>\n",
       "      <td>4</td>\n",
       "      <td>Rockville Centre</td>\n",
       "      <td>24442</td>\n",
       "      <td>61730.0</td>\n",
       "      <td>114483.0</td>\n",
       "      <td>4.4</td>\n",
       "      <td>79.0</td>\n",
       "      <td>6.0</td>\n",
       "      <td>11.0</td>\n",
       "      <td>3.0</td>\n",
       "      <td>1.0</td>\n",
       "    </tr>\n",
       "    <tr>\n",
       "      <th>3</th>\n",
       "      <td>5</td>\n",
       "      <td>Baldwin</td>\n",
       "      <td>32824</td>\n",
       "      <td>40173.0</td>\n",
       "      <td>108771.0</td>\n",
       "      <td>5.8</td>\n",
       "      <td>36.0</td>\n",
       "      <td>33.0</td>\n",
       "      <td>24.0</td>\n",
       "      <td>3.0</td>\n",
       "      <td>3.0</td>\n",
       "    </tr>\n",
       "  </tbody>\n",
       "</table>\n",
       "</div>"
      ],
      "text/plain": [
       "   index              Name  Population  Avg PC Income  Med House Income  \\\n",
       "0      2          Freeport       43128        32373.0           76244.0   \n",
       "1      3         Oceanside       31185        47865.0          114938.0   \n",
       "2      4  Rockville Centre       24442        61730.0          114483.0   \n",
       "3      5           Baldwin       32824        40173.0          108771.0   \n",
       "\n",
       "   Poverty Per  Per White  Per Black  Per Hispanic  Per Asian  Per 2+  \n",
       "0         12.5       25.0       29.0          42.0        2.0     3.0  \n",
       "1          5.1       85.0        1.0          11.0        2.0     0.0  \n",
       "2          4.4       79.0        6.0          11.0        3.0     1.0  \n",
       "3          5.8       36.0       33.0          24.0        3.0     3.0  "
      ]
     },
     "execution_count": 32,
     "metadata": {},
     "output_type": "execute_result"
    }
   ],
   "source": [
    "towns.reset_index()"
   ]
  },
  {
   "cell_type": "code",
   "execution_count": null,
   "metadata": {},
   "outputs": [],
   "source": []
  }
 ],
 "metadata": {
  "kernelspec": {
   "display_name": "Python 3",
   "language": "python",
   "name": "python3"
  },
  "language_info": {
   "codemirror_mode": {
    "name": "ipython",
    "version": 3
   },
   "file_extension": ".py",
   "mimetype": "text/x-python",
   "name": "python",
   "nbconvert_exporter": "python",
   "pygments_lexer": "ipython3",
   "version": "3.7.6"
  }
 },
 "nbformat": 4,
 "nbformat_minor": 4
}
